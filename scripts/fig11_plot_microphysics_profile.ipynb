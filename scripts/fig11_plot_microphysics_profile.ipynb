{
 "cells": [
  {
   "cell_type": "markdown",
   "id": "fe804de4-e68f-42a8-aa2a-12fb8502aa6c",
   "metadata": {},
   "source": [
    "### Script to plot latent heating PV tendency profiles ###\n",
    "\n",
    "#### *Fig 11 in JAMES paper*\n",
    "---\n",
    "\n",
    "Manda Chasteen<br>\n",
    "April 2024"
   ]
  },
  {
   "cell_type": "code",
   "execution_count": null,
   "id": "9d33358f-047f-4064-b851-492471f809ee",
   "metadata": {},
   "outputs": [],
   "source": [
    "import numpy as np\n",
    "import pandas as pd\n",
    "import xarray as xr\n",
    "import matplotlib.pyplot as plt\n",
    "import glob\n",
    "\n",
    "np.set_printoptions(suppress=True)\n",
    "\n",
    "import warnings\n",
    "warnings.simplefilter(\"ignore\") "
   ]
  },
  {
   "cell_type": "code",
   "execution_count": null,
   "id": "6a5c9ca0-7971-4200-99a6-69d889280b46",
   "metadata": {},
   "outputs": [],
   "source": [
    "# Global mean cell height (AGL) -- precomputed: \n",
    "\n",
    "hgt_mean = np.array([23.46662 , 76.577835, 142.2688 , 220.98576 , 313.19623 , 419.373 , 539.91125 , 675.28613 , 825.9186 , 992.19366 , \n",
    "            1174.7301 , 1373.7909 , 1589.8113 , 1823.2872 , 2074.7295 , 2344.283 , 2632.389 , 2939.8752 , 3266.5732 , \n",
    "            3613.3872 , 3980.574 , 4368.4404 , 4777.5244 , 5208.391 , 5660.9995 , 6136.505 , 6634.999 , 7157.0967 , \n",
    "            7703.0933 , 8273.639 , 8869.326 , 9491.046 , 10139.161 , 10814.469 , 11517.821 , 12248.614 , 13009.587 , \n",
    "            13799.668 , 14619.748 , 15471.564 , 16354.052 , 17263.8 , 18186.29 , 19110.822 , 20036.516 , 20962.666 , \n",
    "            21889.504 , 22815.92 , 23743.23 , 24668.701 , 25595.904 , 26523.398 , 27450.395 , 28378.082 , 29305.627 ])"
   ]
  },
  {
   "cell_type": "code",
   "execution_count": null,
   "id": "6a1e8a01-61ee-479d-a4df-2cbef79c80f0",
   "metadata": {},
   "outputs": [],
   "source": [
    "variables = ['depv_dt_cu', 'depv_dt_mp', 'depv_dt_mp_evap_cw', 'depv_dt_mp_evap_rw', 'depv_dt_mp_depo_ice',\n",
    "             'depv_dt_mp_frez_ice', 'depv_dt_mp_melt_ice']\n",
    "\n",
    "parent = ''      # file directory \n",
    "\n",
    "files = glob.glob(parent+'pvbudget15to3km_double_fixed_20190520_03:00:36*')\n",
    "file = xr.open_mfdataset(files, parallel=True, chunks={'longitude' : 100, 'latitude' : 100, 'nVertLevels' : 5})[variables]"
   ]
  },
  {
   "cell_type": "code",
   "execution_count": null,
   "id": "c36bb46e-af6c-4348-a583-3ff2f53058b5",
   "metadata": {},
   "outputs": [],
   "source": [
    "### Point 1: within refined mesh region\n",
    "\n",
    "lat1 = 37.6 \n",
    "lon1 = -86.2\n",
    "\n",
    "f_pt1 = file.sel(longitude=[lon1], latitude=[lat1], method=\"nearest\").squeeze()\n",
    "\n",
    "### Point 2: within coarse mesh region\n",
    "\n",
    "lat2 = 40.25\n",
    "lon2 = 124.0\n",
    "\n",
    "f_pt2 = file.sel(longitude=[lon2], latitude=[lat2], method=\"nearest\").squeeze()"
   ]
  },
  {
   "cell_type": "code",
   "execution_count": null,
   "id": "0d0a0afc-4677-48d7-ba9a-8c1b3c45f153",
   "metadata": {},
   "outputs": [],
   "source": [
    "# Make 2-panel plot of PV tendencies from various microphysics processes + cumulus scheme:\n",
    "\n",
    "levels = np.arange(1,56,1)\n",
    "hgt_km = hgt_mean / 1000\n",
    "\n",
    "\n",
    "plt.rcParams['savefig.dpi'] = 350\n",
    "fig, axs = plt.subplots(1,2,figsize=(15,7)) \n",
    "fig.patch.set_facecolor('white')\n",
    "fig.patch.set_alpha(1)\n",
    "ax = axs.flatten()\n",
    "\n",
    "# Set up common plot attributes:\n",
    "for i in np.arange(0,np.shape(ax)[0],1):\n",
    "\n",
    "    # Axis limits and y ticks:\n",
    "    ax[i].set_ylim([0,40])\n",
    "    ytix = np.hstack((1, np.arange(5,45,5)))\n",
    "    ax[i].set_yticks(ytix)\n",
    "\n",
    "    # Rasterization order:\n",
    "    ax[i].set_rasterization_zorder(1)\n",
    "\n",
    "    # Add horizontal lines:\n",
    "    ax[i].hlines(1, -0.08, 0.08, zorder=1.2, linewidth=0.25, color='gray')\n",
    "    ax[i].vlines(0, 0, 57, zorder=1.3, linewidth=0.5, color='black')\n",
    "\n",
    "    # Add y axis for mean height AGL\n",
    "    axa = ax[i].twinx()\n",
    "    axa.set_ylim(ax[i].get_ylim())\n",
    "    axa.set_yticks(np.arange(5,40,5))\n",
    "    axa.set_yticks(np.hstack((1,np.arange(5,45,5))))\n",
    "    labels = [np.round(hgt_km[lev-1],1) for lev in axa.get_yticks()]\n",
    "    axa.set_yticklabels(labels)\n",
    "\n",
    "    if (i % 2) == 0:\n",
    "        ax[i].set_ylabel('Model Level', fontsize=11.5, labelpad=6.5)\n",
    "    else:\n",
    "        axa.set_ylabel('Mean Height AGL [km]', fontsize=11.5, labelpad=6.5)\n",
    "\n",
    "\n",
    "# Point 1:\n",
    "ax[0].plot(f_pt1.depv_dt_cu, levels, c='grey', linewidth=2, alpha=1, zorder=2)\n",
    "ax[0].plot(f_pt1.depv_dt_mp_evap_rw, levels, c='#0D9276', linewidth=2, zorder=2)\n",
    "ax[0].plot(f_pt1.depv_dt_mp_evap_cw, levels, c='#0766AD', linewidth=2, zorder=2)\n",
    "ax[0].plot(f_pt1.depv_dt_mp_depo_ice, levels, c='#E96479', linewidth=2, zorder=2)\n",
    "ax[0].plot(f_pt1.depv_dt_mp_melt_ice, levels, c='#AF2655', linewidth=2, zorder=2)\n",
    "ax[0].plot(f_pt1.depv_dt_mp_frez_ice, levels, c='#492E87', linewidth=2, zorder=2)\n",
    "ax[0].plot(f_pt1.depv_dt_mp, levels, c='black', linewidth=2, alpha=0.7, zorder=2)\n",
    "ax[0].plot(f_pt1.depv_dt_mp+f_pt1.depv_dt_cu, levels, c='red', linewidth=2, alpha=0.7, zorder=2)\n",
    "\n",
    "ax[0].set_xlim([-0.03, 0.06])\n",
    "ax[0].set_title(r'PV Tendency from Latent Heating Processes',fontsize=12,y=1.02,fontweight='medium', loc='left', horizontalalignment='left')\n",
    "ax[0].set_title(str(lat1).zfill(2)+'$^{\\circ}$ N, '+str(lon1).zfill(2)+'$^{\\circ}$ W',fontsize=10,y=1.02,fontweight='medium', c='dimgray', loc='right', horizontalalignment='right')\n",
    "\n",
    "\n",
    "# Point 2:\n",
    "ax[1].plot(f_pt2.depv_dt_cu, levels, c='grey', linewidth=2, alpha=1, zorder=2, label='Cumulus')\n",
    "ax[1].plot(f_pt2.depv_dt_mp_evap_rw, levels, c='#0D9276', linewidth=2, zorder=2, label='Rain Evaporation')\n",
    "ax[1].plot(f_pt2.depv_dt_mp_evap_cw, levels, c='#0766AD', linewidth=2, zorder=2, label='Condensation/Evaporation')\n",
    "ax[1].plot(f_pt2.depv_dt_mp_depo_ice, levels, c='#E96479', linewidth=2, zorder=2, label='Deposition/Sublimation')\n",
    "ax[1].plot(f_pt2.depv_dt_mp_melt_ice, levels, c='#AF2655', linewidth=2, zorder=2, label='Melting')\n",
    "ax[1].plot(f_pt2.depv_dt_mp_frez_ice, levels, c='#492E87', linewidth=2, zorder=2, label='Freezing')\n",
    "ax[1].plot(f_pt2.depv_dt_mp, levels, c='black', linewidth=2, alpha=0.7, zorder=2, label='All Microphysics')\n",
    "ax[1].plot(f_pt2.depv_dt_mp+f_pt2.depv_dt_cu, levels, c='red', linewidth=2, alpha=0.7, zorder=2, label='All Latent Heating')\n",
    "\n",
    "\n",
    "ax[1].set_xlim([-0.04, 0.03])\n",
    "ax[1].set_title(r'PV Tendency from Latent Heating Processes',fontsize=12,y=1.02,fontweight='medium', loc='left', horizontalalignment='left')\n",
    "ax[1].set_title(str(lat2).zfill(2)+'$^{\\circ}$ N, '+str(lon2).zfill(2)+'$^{\\circ}$ E',fontsize=10,y=1.02,fontweight='medium', c='dimgray', loc='right', horizontalalignment='right')\n",
    "ax[1].legend()\n",
    "\n",
    "fig.subplots_adjust(bottom=0.1, top=0.9, left=0.1, right=0.9, wspace=0.3, hspace=0.4)\n",
    "\n",
    "\n",
    "figname = 'mpas_mp_point_profiles_regrid_03.00.18Z.pdf'\n",
    "#fig.savefig(figname,bbox_inches=\"tight\")\n",
    "\n",
    "plt.show()\n"
   ]
  },
  {
   "cell_type": "code",
   "execution_count": null,
   "id": "b3c2d4bf-d919-4535-98a8-6b4211318b26",
   "metadata": {},
   "outputs": [],
   "source": []
  }
 ],
 "metadata": {
  "kernelspec": {
   "display_name": "Python [conda env:casper_2023]",
   "language": "python",
   "name": "conda-env-casper_2023-py"
  },
  "language_info": {
   "codemirror_mode": {
    "name": "ipython",
    "version": 3
   },
   "file_extension": ".py",
   "mimetype": "text/x-python",
   "name": "python",
   "nbconvert_exporter": "python",
   "pygments_lexer": "ipython3",
   "version": "3.11.5"
  },
  "widgets": {
   "application/vnd.jupyter.widget-state+json": {
    "state": {},
    "version_major": 2,
    "version_minor": 0
   }
  }
 },
 "nbformat": 4,
 "nbformat_minor": 5
}
