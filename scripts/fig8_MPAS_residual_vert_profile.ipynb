{
 "cells": [
  {
   "cell_type": "markdown",
   "id": "fe804de4-e68f-42a8-aa2a-12fb8502aa6c",
   "metadata": {},
   "source": [
    "### Script to plot the vertical profiles of the maximum and mean PV budget residuals from the native mesh files ###\n",
    "\n",
    "#### *Fig 8 in JAMES paper*\n",
    "---\n",
    "\n",
    "Manda Chasteen<br>\n",
    "April 2024"
   ]
  },
  {
   "cell_type": "code",
   "execution_count": null,
   "id": "9d33358f-047f-4064-b851-492471f809ee",
   "metadata": {},
   "outputs": [],
   "source": [
    "import numpy as np\n",
    "import pandas as pd\n",
    "import xarray as xr\n",
    "import matplotlib.pyplot as plt\n",
    "\n",
    "np.set_printoptions(suppress=True)\n",
    "\n",
    "import warnings\n",
    "warnings.simplefilter(\"ignore\") "
   ]
  },
  {
   "cell_type": "code",
   "execution_count": null,
   "id": "6a5c9ca0-7971-4200-99a6-69d889280b46",
   "metadata": {},
   "outputs": [],
   "source": [
    "# Global mean cell height (AGL) -- precomputed: \n",
    "\n",
    "hgt_mean = np.array([23.46662 , 76.577835, 142.2688 , 220.98576 , 313.19623 , 419.373 , 539.91125 , 675.28613 , 825.9186 , 992.19366 , \n",
    "            1174.7301 , 1373.7909 , 1589.8113 , 1823.2872 , 2074.7295 , 2344.283 , 2632.389 , 2939.8752 , 3266.5732 , \n",
    "            3613.3872 , 3980.574 , 4368.4404 , 4777.5244 , 5208.391 , 5660.9995 , 6136.505 , 6634.999 , 7157.0967 , \n",
    "            7703.0933 , 8273.639 , 8869.326 , 9491.046 , 10139.161 , 10814.469 , 11517.821 , 12248.614 , 13009.587 , \n",
    "            13799.668 , 14619.748 , 15471.564 , 16354.052 , 17263.8 , 18186.29 , 19110.822 , 20036.516 , 20962.666 , \n",
    "            21889.504 , 22815.92 , 23743.23 , 24668.701 , 25595.904 , 26523.398 , 27450.395 , 28378.082 , 29305.627 ])"
   ]
  },
  {
   "cell_type": "code",
   "execution_count": null,
   "id": "6a1e8a01-61ee-479d-a4df-2cbef79c80f0",
   "metadata": {},
   "outputs": [],
   "source": [
    "# Import native output files:\n",
    "\n",
    "parent_single = ''     # single precision simulations directory name \n",
    "parent_double = ''     # double precision simulations directory name \n",
    "\n",
    "file_s = xr.open_dataset(parent_single+'/pvbudget15to3.2019-05-20_03.00.36.nc', chunks={'nCells' : 5000}).squeeze()\n",
    "file_d = xr.open_dataset(parent_double+'/pvbudget15to3d.2019-05-20_03.00.36.nc', chunks={'nCells' : 5000}).squeeze()\n",
    "\n",
    "dt = file_s.attrs['config_dt']"
   ]
  },
  {
   "cell_type": "markdown",
   "id": "431659e9-bf00-424c-8fce-e257d3c7fb0b",
   "metadata": {},
   "source": [
    "*Single precision:*"
   ]
  },
  {
   "cell_type": "code",
   "execution_count": null,
   "id": "ef35ab17-4ceb-490f-817c-b7382b786d20",
   "metadata": {},
   "outputs": [],
   "source": [
    "# Read in fields and calculate instantaneous PV budget in units of PVU\n",
    "\n",
    "pv1_s = file_s.ertel_pv_prev                 # PV at beginning of time step\n",
    "pv2_s = file_s.ertel_pv                      # PV at end of time step (i.e., time file is output)\n",
    "\n",
    "tend_dyn_s = file_s.depv_dt_dyn              # dynamics PV tendency over previous time step in PVU/s\n",
    "tend_diab_s = file_s.depv_dt_diab            # diabatic PV tendency over previous time step in PVU/s\n",
    "tend_fric_s = file_s.depv_dt_fric            # frictional PV tendency over previous time step in PVU/s\n",
    "\n",
    "# Calculate budget terms:\n",
    "tend_total_s = (tend_dyn_s + tend_diab_s + tend_fric_s) * dt\n",
    "pv2_calc_s = pv1_s + tend_total_s\n",
    "pv_resid_s = pv2_s - pv2_calc_s"
   ]
  },
  {
   "cell_type": "code",
   "execution_count": null,
   "id": "668361f0-478b-4208-ae18-4ec6fc4e691c",
   "metadata": {},
   "outputs": [],
   "source": [
    "pv_resid_abs_s = np.abs(pv_resid_s)\n",
    "pv_resid_max_s = pv_resid_abs_s.max(dim='nCells').values\n",
    "pv_resid_mean_s = pv_resid_abs_s.mean(dim='nCells').values"
   ]
  },
  {
   "cell_type": "markdown",
   "id": "649e6cb9-dcc8-482b-a494-63bbaa79816b",
   "metadata": {},
   "source": [
    "*Double precision:*"
   ]
  },
  {
   "cell_type": "code",
   "execution_count": null,
   "id": "d63eb07c-dfc8-48df-9e66-e52e024441c2",
   "metadata": {},
   "outputs": [],
   "source": [
    "# Read in fields and calculate instantaneous PV budget in units of PVU\n",
    "\n",
    "pv1_d = file_d.ertel_pv_prev                 # PV at beginning of time step\n",
    "pv2_d = file_d.ertel_pv                      # PV at end of time step (i.e., time file is output)\n",
    "\n",
    "tend_dyn_d = file_d.depv_dt_dyn              # dynamics PV tendency over previous time step in PVU/s\n",
    "tend_diab_d = file_d.depv_dt_diab            # diabatic PV tendency over previous time step in PVU/s\n",
    "tend_fric_d = file_d.depv_dt_fric            # frictional PV tendency over previous time step in PVU/s\n",
    "\n",
    "# Calculate budget terms:\n",
    "tend_total_d = (tend_dyn_d + tend_diab_d + tend_fric_d) * dt\n",
    "pv2_calc_d = pv1_d + tend_total_d\n",
    "pv_resid_d = pv2_d - pv2_calc_d"
   ]
  },
  {
   "cell_type": "code",
   "execution_count": null,
   "id": "00a95873-be7d-4884-8740-a26cbe28f31a",
   "metadata": {},
   "outputs": [],
   "source": [
    "pv_resid_abs_d = np.abs(pv_resid_d)\n",
    "pv_resid_max_d = pv_resid_abs_d.max(dim='nCells').values\n",
    "pv_resid_mean_d = pv_resid_abs_d.mean(dim='nCells').values"
   ]
  },
  {
   "cell_type": "code",
   "execution_count": null,
   "id": "a5dd08d6-147f-4fe3-9e52-820294ff8192",
   "metadata": {},
   "outputs": [],
   "source": [
    "# Print the max and mean absolute values of the PV budget residuals as a function of height \n",
    "\n",
    "print(r'Maximum absolute PV budget residual - single: ')\n",
    "print(pv_resid_max_s)\n",
    "print(r'Mean absolute PV budget residual - single: ')\n",
    "print(pv_resid_mean_s)\n",
    "print('--')\n",
    "print(r'Maximum absolute PV budget residual - double: ')\n",
    "print(pv_resid_max_d)\n",
    "print(r'Mean absolute PV budget residual - double: ')\n",
    "print(pv_resid_mean_d)\n",
    "print('--')\n",
    "print(r'Overall maximum absolute PV budget residual - single: ')\n",
    "print(np.max(pv_resid_max_s))\n",
    "print(r'Overall maximum absolute PV budget residual - double: ')\n",
    "print(np.max(pv_resid_max_d))"
   ]
  },
  {
   "cell_type": "code",
   "execution_count": null,
   "id": "a2fe3e02-03d4-4bee-b96d-5717af71e23b",
   "metadata": {},
   "outputs": [],
   "source": [
    "# Makes 4 panel plot of residual profiles:\n",
    "\n",
    "levels = np.arange(1,56,1)\n",
    "hgt_km = hgt_mean / 1000\n",
    "\n",
    "plt.rcParams['savefig.dpi'] = 350\n",
    "fig, axs = plt.subplots(2,2,figsize=(10,14)) \n",
    "fig.patch.set_facecolor('white')\n",
    "fig.patch.set_alpha(1)\n",
    "ax = axs.flatten()\n",
    "\n",
    "#######\n",
    "# Set up common plot attributes:\n",
    "for i in np.arange(0,np.shape(ax)[0],1):\n",
    "    \n",
    "    # x tick formats:\n",
    "    ax[i].ticklabel_format(axis='x', style='scientific', scilimits=(-1,1))\n",
    "    \n",
    "    # Axis limits and y ticks:\n",
    "    ax[i].set_ylim([0,56])\n",
    "    ytix = np.hstack((1, np.arange(5,60,5)))\n",
    "    ax[i].set_yticks(ytix)\n",
    "    \n",
    "    # Rasterization order:\n",
    "    ax[i].set_rasterization_zorder(1)\n",
    "\n",
    "    # Add horizontal lines:\n",
    "    ax[i].hlines(1, 0, 0.02, zorder=1.2, linewidth=0.25, color='gray')\n",
    "    ax[i].hlines(55, 0, 0.02, zorder=1.2, linewidth=0.25, color='gray')\n",
    "    ax[i].hlines(32, 0, 0.02, zorder=1.5, linewidth=1.2, color='orange', alpha=0.5)\n",
    "\n",
    "    # Add y axis for mean height AGL\n",
    "    axa = ax[i].twinx()\n",
    "    axa.set_ylim(ax[i].get_ylim())\n",
    "    axa.set_yticks(np.arange(5,60,5))\n",
    "    axa.set_yticks(np.hstack((1,np.arange(5,60,5))))\n",
    "    labels = [np.round(hgt_km[lev-1],1) for lev in axa.get_yticks()]\n",
    "    axa.set_yticklabels(labels)\n",
    "\n",
    "    if (i % 2) == 0:\n",
    "        ax[i].set_ylabel('Model Level', fontsize=11.5, labelpad=6.5)\n",
    "    else:\n",
    "        axa.set_ylabel('Mean Height AGL [km]', fontsize=11.5, labelpad=6.5)\n",
    "\n",
    "\n",
    "\n",
    "# Single precision -- max absolute PV budget residual\n",
    "ax[0].plot(pv_resid_max_s,levels, zorder=2)\n",
    "ax[0].scatter(pv_resid_max_s,levels, s=4, zorder=3)\n",
    "\n",
    "ax[0].set_xlim([0, 0.020])\n",
    "ax[0].set_xticks(np.arange(0, 0.025, 0.005))\n",
    "ax[0].set_title(r'Global Maximum Absolute PV Budget Residual',fontsize=12,y=1.02,fontweight='medium', loc='center', horizontalalignment='center')\n",
    "\n",
    "\n",
    "# Single precision -- mean absolute PV budget residual\n",
    "ax[1].plot(pv_resid_mean_s,levels, zorder=2)\n",
    "ax[1].scatter(pv_resid_mean_s,levels, s=4, zorder=3)\n",
    "\n",
    "ax[1].set_xlim([0, 0.0004])\n",
    "ax[1].set_title(r'Global Mean Absolute PV Budget Residual',fontsize=12,y=1.02,fontweight='medium', loc='center', horizontalalignment='center')\n",
    "\n",
    "\n",
    "# Double precision -- max absolute PV budget residual\n",
    "ax[2].plot(pv_resid_max_d,levels, zorder=2)\n",
    "ax[2].scatter(pv_resid_max_d,levels, s=4, zorder=3)\n",
    "\n",
    "ax[2].set_xlim([0, 6e-11])\n",
    "ax[2].set_title(r'Global Maximum Absolute PV Budget Residual',fontsize=12,y=1.02,fontweight='medium', loc='center', horizontalalignment='center')\n",
    "\n",
    "\n",
    "# Double precision -- mean absolute PV budget residual\n",
    "ax[3].plot(pv_resid_mean_d,levels, zorder=2)\n",
    "ax[3].scatter(pv_resid_mean_d,levels, s=4, zorder=3)\n",
    "\n",
    "ax[3].set_xlim([0, 1.2e-12])\n",
    "ax[3].set_title(r'Global Mean Absolute PV Budget Residual',fontsize=12,y=1.02,fontweight='medium', loc='center', horizontalalignment='center')\n",
    "\n",
    "fig.subplots_adjust(bottom=0.1, top=0.9, left=0.1, right=0.9, wspace=0.3, hspace=0.4)\n",
    "\n",
    "\n",
    "figname = 'mpas_global_residual_profiles_03.00.18Z.pdf'\n",
    "#fig.savefig(figname,bbox_inches=\"tight\")\n",
    "\n",
    "plt.show()"
   ]
  },
  {
   "cell_type": "code",
   "execution_count": null,
   "id": "b3c2d4bf-d919-4535-98a8-6b4211318b26",
   "metadata": {},
   "outputs": [],
   "source": []
  }
 ],
 "metadata": {
  "kernelspec": {
   "display_name": "Python [conda env:casper_2023]",
   "language": "python",
   "name": "conda-env-casper_2023-py"
  },
  "language_info": {
   "codemirror_mode": {
    "name": "ipython",
    "version": 3
   },
   "file_extension": ".py",
   "mimetype": "text/x-python",
   "name": "python",
   "nbconvert_exporter": "python",
   "pygments_lexer": "ipython3",
   "version": "3.11.5"
  },
  "widgets": {
   "application/vnd.jupyter.widget-state+json": {
    "state": {},
    "version_major": 2,
    "version_minor": 0
   }
  }
 },
 "nbformat": 4,
 "nbformat_minor": 5
}
