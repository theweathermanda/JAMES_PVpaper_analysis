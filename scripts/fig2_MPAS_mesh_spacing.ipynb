{
 "cells": [
  {
   "cell_type": "markdown",
   "id": "8e3c7928-2aae-4641-9b1b-a441a0497dcb",
   "metadata": {},
   "source": [
    "### Script to plot mesh spacing for variable-resolution global MPAS mesh ###\n",
    "\n",
    "---\n",
    "\n",
    "Manda Chasteen\n",
    "<br>\n",
    "April 2024"
   ]
  },
  {
   "cell_type": "code",
   "execution_count": null,
   "id": "0aaa3380-b9d0-4e1c-8420-e6de80d7def6",
   "metadata": {},
   "outputs": [],
   "source": [
    "import numpy as np\n",
    "import xarray as xr\n",
    "import matplotlib as mp\n",
    "import matplotlib.pyplot as plt\n",
    "import cartopy.crs as ccrs\n",
    "\n",
    "# My colormaps file:\n",
    "import custom_colormaps as cc\n",
    "\n",
    "np.set_printoptions(suppress=True)\n",
    "\n",
    "import warnings\n",
    "warnings.simplefilter(\"ignore\") "
   ]
  },
  {
   "cell_type": "code",
   "execution_count": null,
   "id": "56d765bb-3b45-4e12-8bf2-a43410eab07b",
   "metadata": {},
   "outputs": [],
   "source": [
    "grid_dir = ''                                           # Add directory here\n",
    "grid_file = 'x5.6488066.static.nc'\n",
    "\n",
    "f = xr.open_dataset(grid_dir+grid_file).squeeze()"
   ]
  },
  {
   "cell_type": "code",
   "execution_count": null,
   "id": "ed1eb4fd-6f4e-4355-bc16-5af27b315cc1",
   "metadata": {},
   "outputs": [],
   "source": [
    "latCell = f.latCell * 180.0 / np.pi\n",
    "lonCell = f.lonCell * 180.0 / np.pi\n",
    "\n",
    "meshDensity = f.meshDensity\n",
    "dc = 3.0 * np.power(1.0 / meshDensity, 0.25)"
   ]
  },
  {
   "cell_type": "code",
   "execution_count": null,
   "id": "60328564-9ea1-40a5-a870-75eed1ffd5c8",
   "metadata": {},
   "outputs": [],
   "source": [
    "### Plot mesh:\n",
    "\n",
    "plt.rcParams['savefig.dpi'] = 250\n",
    "proj = ccrs.NearsidePerspective(central_longitude=-105.0, central_latitude=40.0)\n",
    "fig, ax = plt.subplots(1,1,figsize=(10,10),subplot_kw={'projection': proj}) \n",
    "fig.patch.set_facecolor('white')\n",
    "fig.patch.set_alpha(1)\n",
    "ax.set_global()\n",
    "\n",
    "#######\n",
    "gl_color = 'xkcd:gunmetal'\n",
    "cl_color = 'xkcd:darkblue' \n",
    "cl_lwidth = 1.0\n",
    "kw_clabels = {'fontsize': 8.5, 'inline': True, 'inline_spacing': 3, 'fmt': '%i',\n",
    "              'rightside_up': True, 'use_clabeltext': True, 'zorder' : 3.5}\n",
    "\n",
    "ax.coastlines(resolution='50m', color=cl_color, linewidth=cl_lwidth, zorder=1, alpha=0.8)\n",
    "gl = ax.gridlines(xlocs=np.arange(-180,180,30), ylocs=[0,30,60,90], linewidths=0.1, linestyles=[(0, (2.0, 2.0))], color=gl_color, zorder=2, alpha=0.3)\n",
    "# gl.xlabels_bottom = True\n",
    "# gl.xlabel_style = {'size': 8.5}\n",
    "\n",
    "# Set colormap and norm:\n",
    "cmap = cc.deep_sea().reversed()\n",
    "vmin = 3\n",
    "vmax = 15\n",
    "norm = mp.colors.Normalize(vmin=vmin, vmax=vmax)\n",
    "\n",
    "cn = ax.tricontourf(lonCell, latCell, dc, vmin=vmin, vmax=vmax, levels=np.linspace(3,15,100), extend='max', cmap=cmap, norm=norm, transform=ccrs.PlateCarree(), zorder=0)\n",
    "cbar = fig.colorbar(cn, ax=ax, orientation=\"horizontal\",extend='max',shrink=0.7,pad=0.015,fraction=0.035,aspect=35,ticks = np.arange(3,16,1))\n",
    "\n",
    "c0 = ax.tricontour(lonCell, latCell, dc, [3.01, 4.0, 6.0, 9.0, 12.0], linewidths=1.5, colors='black', transform=ccrs.PlateCarree(), zorder=3)\n",
    "lab0 = ax.clabel(c0, c0.levels, **kw_clabels)\n",
    "plt.setp(lab0, path_effects=[pe.withStroke(linewidth=1.5, foreground=\"w\")])\n",
    "\n",
    "pngname = 'mpas_15to3km_mesh.png'\n",
    "fig.savefig(pngname,bbox_inches=\"tight\")"
   ]
  }
 ],
 "metadata": {
  "kernelspec": {
   "display_name": "Python [conda env:casper_2023]",
   "language": "python",
   "name": "conda-env-casper_2023-py"
  },
  "language_info": {
   "codemirror_mode": {
    "name": "ipython",
    "version": 3
   },
   "file_extension": ".py",
   "mimetype": "text/x-python",
   "name": "python",
   "nbconvert_exporter": "python",
   "pygments_lexer": "ipython3",
   "version": "3.11.5"
  },
  "widgets": {
   "application/vnd.jupyter.widget-state+json": {
    "state": {},
    "version_major": 2,
    "version_minor": 0
   }
  }
 },
 "nbformat": 4,
 "nbformat_minor": 5
}
